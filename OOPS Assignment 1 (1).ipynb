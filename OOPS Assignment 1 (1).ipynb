{
 "cells": [
  {
   "cell_type": "code",
   "execution_count": 18,
   "id": "c9218b9f-f6bc-465c-bcd8-4a4f82b545ce",
   "metadata": {},
   "outputs": [],
   "source": [
    "\"\"\"Q1. Explain Class and Object with respect to Object-Oriented Programming. Give a suitable example.\n",
    "\n",
    "Ans : Class Object Oriented Programming System is a blueprint or skeleton of a real world entity. It gives the \n",
    "      characterisation of the entity but does not give specific information about it.\n",
    "      \n",
    "      \n",
    "      Object is a Real world entity, this is also know as variable or instance and belongs to a specific class.\"\"\"\n",
    "\n",
    "# Example : This is a class named Data Science :\n",
    "\n",
    "class Data_Science:\n",
    "    \n",
    "    def welcome_msg(self):\n",
    "        print(\"Welcome to data Science\")"
   ]
  },
  {
   "cell_type": "code",
   "execution_count": 19,
   "id": "e8bced0b-9711-434d-ac9c-4294ecb7b408",
   "metadata": {},
   "outputs": [],
   "source": [
    "# This is how a object of a class is created :\n",
    "\n",
    "Student=Data_Science()"
   ]
  },
  {
   "cell_type": "code",
   "execution_count": 20,
   "id": "e34d24e1-1a56-4423-b836-9d9781536cf7",
   "metadata": {},
   "outputs": [
    {
     "name": "stdout",
     "output_type": "stream",
     "text": [
      "<class '__main__.Data_Science'>\n"
     ]
    }
   ],
   "source": [
    "print(type(Student))"
   ]
  },
  {
   "cell_type": "code",
   "execution_count": 21,
   "id": "2aa0fb83-ab8c-4376-be50-774fddcb5f89",
   "metadata": {},
   "outputs": [
    {
     "name": "stdout",
     "output_type": "stream",
     "text": [
      "Welcome to data Science\n"
     ]
    }
   ],
   "source": [
    "Student.welcome_msg()"
   ]
  },
  {
   "cell_type": "code",
   "execution_count": null,
   "id": "5600e6b4-6272-49a7-b830-472b65d14926",
   "metadata": {},
   "outputs": [],
   "source": [
    "\"\"\"Q2. Name the four pillars of OOPs.\n",
    "\n",
    "Ans : The Pillers of OOPS are ::\n",
    "      1) Polymorphism\n",
    "      2) Encapsulation\n",
    "      3) Inheritance\n",
    "      4) Anstraction\"\"\""
   ]
  },
  {
   "cell_type": "code",
   "execution_count": 32,
   "id": "f894158f-5887-4288-9620-9f44b6753cbe",
   "metadata": {},
   "outputs": [],
   "source": [
    "\"\"\"Q3. Explain why the __init__() function is used. Give a suitable example.\n",
    "\n",
    "Ans : __init__ is a inbuilt function is OOPS which is also called constructor. This is defined to pass the data in a class.\n",
    "      This provides the option to pass the data of specific object while crating the object\"\"\"\n",
    "\n",
    "# Example :\n",
    "\n",
    "class Maruti:\n",
    "    \n",
    "    def __init__(self, model, year):\n",
    "        self.model=model\n",
    "        self.year=year\n",
    "        \n",
    "    def return_car_details(self):\n",
    "        return self.model , self.year"
   ]
  },
  {
   "cell_type": "code",
   "execution_count": 35,
   "id": "54fa05f4-329b-4ebf-b5f8-7483136bf364",
   "metadata": {},
   "outputs": [],
   "source": [
    "car1=Maruti(\"Celerio\",2018)\n",
    "car2=Maruti(\"Swift\", 2013)"
   ]
  },
  {
   "cell_type": "code",
   "execution_count": 34,
   "id": "837001ed-74ff-45de-900d-56703cb9afef",
   "metadata": {},
   "outputs": [
    {
     "data": {
      "text/plain": [
       "('Celerio', 2018)"
      ]
     },
     "execution_count": 34,
     "metadata": {},
     "output_type": "execute_result"
    }
   ],
   "source": [
    "car1.return_car_details()"
   ]
  },
  {
   "cell_type": "code",
   "execution_count": 36,
   "id": "884afc7e-168b-4b66-b200-74964679b360",
   "metadata": {},
   "outputs": [
    {
     "data": {
      "text/plain": [
       "('Swift', 2013)"
      ]
     },
     "execution_count": 36,
     "metadata": {},
     "output_type": "execute_result"
    }
   ],
   "source": [
    "car2.return_car_details()"
   ]
  },
  {
   "cell_type": "code",
   "execution_count": null,
   "id": "c87f62e2-1913-496b-9c57-7520a91bf5fd",
   "metadata": {},
   "outputs": [],
   "source": [
    "\"\"\"Q4. Why self is used in OOPs?\n",
    "\n",
    "Ans : self is used to bind the variable to the class. this provides reference to the data passed in the variable,\n",
    "      we won't be able to call the data without using self with the data.\"\"\""
   ]
  },
  {
   "cell_type": "code",
   "execution_count": 37,
   "id": "77b21d34-76fa-4caa-b58f-0f6e382db41f",
   "metadata": {},
   "outputs": [],
   "source": [
    "\"\"\"Q5. What is inheritance? Give an example for each type of inheritance.\n",
    "\n",
    "Ans : Inheritance is a concept in oops through with a class can inherit the proporties of a different class.\n",
    "\n",
    "      There are two types of inheritance \"\n",
    "      \n",
    "      1) Multiple inheritance \n",
    "      2) Multi level inheritance\n",
    "      \n",
    "1) Multiple inheritance is a feature in which a class inherits the properties from multiple parent classes. This class is \n",
    "   directly connected to parent classes\"\"\"\n",
    "\n",
    "# Example \n",
    "\n",
    "class class1:\n",
    "    \n",
    "    def name(self, person_name):\n",
    "        self.person_name=person_name\n",
    "        print(f\"My name is {self.person_name}.\")\n",
    "    \n",
    "class class2:\n",
    "    \n",
    "    def age(self,person_age):\n",
    "        self.person_age=person_age\n",
    "        print(f\"I'm {self.person_age} years old.\")\n",
    "           \n",
    "    \n",
    "class class3(class1,class2):\n",
    "        \n",
    "    def details(self):\n",
    "        return \"This is multiple inheritance\"  "
   ]
  },
  {
   "cell_type": "code",
   "execution_count": 38,
   "id": "cb6d724d-01eb-4a4d-b6e9-934e4104a8dc",
   "metadata": {},
   "outputs": [],
   "source": [
    "Obj_class3=class3()"
   ]
  },
  {
   "cell_type": "code",
   "execution_count": 39,
   "id": "95ed921e-57c7-44c7-b5a5-258f2e199a91",
   "metadata": {},
   "outputs": [
    {
     "data": {
      "text/plain": [
       "'This is multiple inheritance'"
      ]
     },
     "execution_count": 39,
     "metadata": {},
     "output_type": "execute_result"
    }
   ],
   "source": [
    "Obj_class3.details()"
   ]
  },
  {
   "cell_type": "code",
   "execution_count": 42,
   "id": "b9705b3d-d868-44d6-98a9-839892d42867",
   "metadata": {},
   "outputs": [
    {
     "name": "stdout",
     "output_type": "stream",
     "text": [
      "I'm 22 years old.\n"
     ]
    }
   ],
   "source": [
    "Obj_class3.age(22)"
   ]
  },
  {
   "cell_type": "code",
   "execution_count": 43,
   "id": "9b5174e1-9e2d-44b2-965d-4055c102112a",
   "metadata": {},
   "outputs": [
    {
     "name": "stdout",
     "output_type": "stream",
     "text": [
      "My name is Arush.\n"
     ]
    }
   ],
   "source": [
    "Obj_class3.name(\"Arush\")"
   ]
  },
  {
   "cell_type": "code",
   "execution_count": 93,
   "id": "9108b25f-beea-439a-813b-62670d5d0d92",
   "metadata": {},
   "outputs": [
    {
     "ename": "SyntaxError",
     "evalue": "invalid syntax (1094589985.py, line 21)",
     "output_type": "error",
     "traceback": [
      "\u001b[0;36m  Cell \u001b[0;32mIn[93], line 21\u001b[0;36m\u001b[0m\n\u001b[0;31m    return name age\u001b[0m\n\u001b[0m                ^\u001b[0m\n\u001b[0;31mSyntaxError\u001b[0m\u001b[0;31m:\u001b[0m invalid syntax\n"
     ]
    }
   ],
   "source": [
    "\"\"\" 2) Multilevel inheritance is a feature through which a class inherits the properties all the classes which are inherited \n",
    "      by it's parent class even though the class is not directly connected to those classes.\"\"\"\n",
    "\n",
    "#Example :\n",
    "\n",
    "class class1:\n",
    "    \n",
    "    def name(self):     \n",
    "        return \"My name is Arush Yadav\"\n",
    "    \n",
    "class class2(class1):\n",
    "    \n",
    "    def age(self):\n",
    "        return \"I'm 4 years old\"\n",
    "    \n",
    "class class3(class2):\n",
    "    \n",
    "    def all_details(self):\n",
    "        name=person.name()\n",
    "        age=person.age()\n",
    "        print(name,\n",
    "        "
   ]
  },
  {
   "cell_type": "code",
   "execution_count": 89,
   "id": "29ef769c-4804-42ff-ae34-35b1310d75a4",
   "metadata": {},
   "outputs": [],
   "source": [
    "person=class3()"
   ]
  },
  {
   "cell_type": "code",
   "execution_count": 90,
   "id": "c6272ec4-bcde-493f-a036-df0abfe10c6f",
   "metadata": {},
   "outputs": [
    {
     "data": {
      "text/plain": [
       "\"I'm 4 years old\""
      ]
     },
     "execution_count": 90,
     "metadata": {},
     "output_type": "execute_result"
    }
   ],
   "source": [
    "person.age()"
   ]
  },
  {
   "cell_type": "code",
   "execution_count": 91,
   "id": "0ab341cf-d045-457a-ad0e-f49e9452ca56",
   "metadata": {},
   "outputs": [
    {
     "data": {
      "text/plain": [
       "'My name is Arush Yadav'"
      ]
     },
     "execution_count": 91,
     "metadata": {},
     "output_type": "execute_result"
    }
   ],
   "source": [
    "person.name()"
   ]
  },
  {
   "cell_type": "code",
   "execution_count": 92,
   "id": "34c7d621-e55f-4dc6-bb06-c878e770f2d1",
   "metadata": {},
   "outputs": [
    {
     "data": {
      "text/plain": [
       "'My name is Arush Yadav'"
      ]
     },
     "execution_count": 92,
     "metadata": {},
     "output_type": "execute_result"
    }
   ],
   "source": [
    "person.all_details()"
   ]
  },
  {
   "cell_type": "code",
   "execution_count": null,
   "id": "01fe95de-9707-4ef4-9812-a9b291bdfe89",
   "metadata": {},
   "outputs": [],
   "source": []
  },
  {
   "cell_type": "code",
   "execution_count": null,
   "id": "03153916-22d1-453f-9f08-881ae205d09b",
   "metadata": {},
   "outputs": [],
   "source": []
  }
 ],
 "metadata": {
  "kernelspec": {
   "display_name": "Python 3 (ipykernel)",
   "language": "python",
   "name": "python3"
  },
  "language_info": {
   "codemirror_mode": {
    "name": "ipython",
    "version": 3
   },
   "file_extension": ".py",
   "mimetype": "text/x-python",
   "name": "python",
   "nbconvert_exporter": "python",
   "pygments_lexer": "ipython3",
   "version": "3.10.8"
  }
 },
 "nbformat": 4,
 "nbformat_minor": 5
}
